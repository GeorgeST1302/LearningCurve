{
 "cells": [
  {
   "cell_type": "code",
   "execution_count": null,
   "metadata": {},
   "outputs": [],
   "source": [
    "pandaslol\n",
    "numpy\n",
    "scikit-learn\n",
    "matplotlib\n",
    "keras\n",
    "imblearn\n",
    "seaborn\n",
    "imbalanced-learn                                                     \n",
    "pillow                                   \n",
    "pip                                     \n",
    "scipy                                    \n",
    "PyPDF2\n",
    "pyttsx3\n",
    "spacy\n",
    "nltk\n",
    "transformers\n",
    "tensorflow\n",
    "torch\n",
    "Document Parsing\n",
    "pymupdf\n",
    "pdfplumber\n",
    "python-docx\n",
    "Data Extraction and Structuring\n",
    "beautifulsoup4\n",
    "pandas\n",
    "APIs and Integration\n",
    "flask\n",
    "fastapi\n",
    "requests\n",
    "Conversation Management\n",
    "rasa\n",
    "Text-to-Speech and Speech Recognition\n",
    "gtts\n",
    "SpeechRecognition\n",
    "Additional Utilities\n",
    "regex\n",
    "pytest\n",
    "Cloud Services (if applicable)\n",
    "boto3\n",
    "google-cloud"
   ]
  }
 ],
 "metadata": {
  "kernelspec": {
   "display_name": "Python 3",
   "language": "python",
   "name": "python3"
  },
  "language_info": {
   "name": "python",
   "version": "3.12.5"
  }
 },
 "nbformat": 4,
 "nbformat_minor": 2
}
