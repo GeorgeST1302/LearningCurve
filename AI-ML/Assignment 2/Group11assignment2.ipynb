{
 "cells": [
  {
   "cell_type": "code",
   "execution_count": 1,
   "metadata": {},
   "outputs": [
    {
     "name": "stdout",
     "output_type": "stream",
     "text": [
      "\n",
      "Number of rows and columns: (2111, 17)\n",
      "\n",
      "Total number of features :17\n"
     ]
    }
   ],
   "source": [
    "import pandas as pd\n",
    "import numpy as np\n",
    "df = pd.read_csv('ObesityDataSet_raw_and_data_sinthetic.csv')\n",
    "rows,columns = df.shape\n",
    "number_features =len(df.columns)\n",
    "print (f\"\\nNumber of rows and columns: {rows,columns}\")\n",
    "print(f\"\\nTotal number of features :{number_features}\")"
   ]
  },
  {
   "cell_type": "code",
   "execution_count": 2,
   "metadata": {},
   "outputs": [
    {
     "data": {
      "text/html": [
       "<div>\n",
       "<style scoped>\n",
       "    .dataframe tbody tr th:only-of-type {\n",
       "        vertical-align: middle;\n",
       "    }\n",
       "\n",
       "    .dataframe tbody tr th {\n",
       "        vertical-align: top;\n",
       "    }\n",
       "\n",
       "    .dataframe thead th {\n",
       "        text-align: right;\n",
       "    }\n",
       "</style>\n",
       "<table border=\"1\" class=\"dataframe\">\n",
       "  <thead>\n",
       "    <tr style=\"text-align: right;\">\n",
       "      <th></th>\n",
       "      <th>Gender</th>\n",
       "      <th>Age</th>\n",
       "      <th>Height</th>\n",
       "      <th>Weight</th>\n",
       "      <th>family_history_with_overweight</th>\n",
       "      <th>FAVC</th>\n",
       "      <th>FCVC</th>\n",
       "      <th>NCP</th>\n",
       "      <th>CAEC</th>\n",
       "      <th>SMOKE</th>\n",
       "      <th>CH2O</th>\n",
       "      <th>SCC</th>\n",
       "      <th>FAF</th>\n",
       "      <th>TUE</th>\n",
       "      <th>CALC</th>\n",
       "      <th>MTRANS</th>\n",
       "      <th>NObeyesdad</th>\n",
       "    </tr>\n",
       "  </thead>\n",
       "  <tbody>\n",
       "    <tr>\n",
       "      <th>0</th>\n",
       "      <td>Female</td>\n",
       "      <td>21.0</td>\n",
       "      <td>1.62</td>\n",
       "      <td>64.0</td>\n",
       "      <td>yes</td>\n",
       "      <td>no</td>\n",
       "      <td>2.0</td>\n",
       "      <td>3.0</td>\n",
       "      <td>Sometimes</td>\n",
       "      <td>no</td>\n",
       "      <td>2.0</td>\n",
       "      <td>no</td>\n",
       "      <td>0.0</td>\n",
       "      <td>1.0</td>\n",
       "      <td>no</td>\n",
       "      <td>Public_Transportation</td>\n",
       "      <td>Normal_Weight</td>\n",
       "    </tr>\n",
       "    <tr>\n",
       "      <th>1</th>\n",
       "      <td>Female</td>\n",
       "      <td>21.0</td>\n",
       "      <td>1.52</td>\n",
       "      <td>56.0</td>\n",
       "      <td>yes</td>\n",
       "      <td>no</td>\n",
       "      <td>3.0</td>\n",
       "      <td>3.0</td>\n",
       "      <td>Sometimes</td>\n",
       "      <td>yes</td>\n",
       "      <td>3.0</td>\n",
       "      <td>yes</td>\n",
       "      <td>3.0</td>\n",
       "      <td>0.0</td>\n",
       "      <td>Sometimes</td>\n",
       "      <td>Public_Transportation</td>\n",
       "      <td>Normal_Weight</td>\n",
       "    </tr>\n",
       "    <tr>\n",
       "      <th>2</th>\n",
       "      <td>Male</td>\n",
       "      <td>23.0</td>\n",
       "      <td>1.80</td>\n",
       "      <td>77.0</td>\n",
       "      <td>yes</td>\n",
       "      <td>no</td>\n",
       "      <td>2.0</td>\n",
       "      <td>3.0</td>\n",
       "      <td>Sometimes</td>\n",
       "      <td>no</td>\n",
       "      <td>2.0</td>\n",
       "      <td>no</td>\n",
       "      <td>2.0</td>\n",
       "      <td>1.0</td>\n",
       "      <td>Frequently</td>\n",
       "      <td>Public_Transportation</td>\n",
       "      <td>Normal_Weight</td>\n",
       "    </tr>\n",
       "    <tr>\n",
       "      <th>3</th>\n",
       "      <td>Male</td>\n",
       "      <td>27.0</td>\n",
       "      <td>1.80</td>\n",
       "      <td>87.0</td>\n",
       "      <td>no</td>\n",
       "      <td>no</td>\n",
       "      <td>3.0</td>\n",
       "      <td>3.0</td>\n",
       "      <td>Sometimes</td>\n",
       "      <td>no</td>\n",
       "      <td>2.0</td>\n",
       "      <td>no</td>\n",
       "      <td>2.0</td>\n",
       "      <td>0.0</td>\n",
       "      <td>Frequently</td>\n",
       "      <td>Walking</td>\n",
       "      <td>Overweight_Level_I</td>\n",
       "    </tr>\n",
       "    <tr>\n",
       "      <th>4</th>\n",
       "      <td>Male</td>\n",
       "      <td>22.0</td>\n",
       "      <td>1.78</td>\n",
       "      <td>89.8</td>\n",
       "      <td>no</td>\n",
       "      <td>no</td>\n",
       "      <td>2.0</td>\n",
       "      <td>1.0</td>\n",
       "      <td>Sometimes</td>\n",
       "      <td>no</td>\n",
       "      <td>2.0</td>\n",
       "      <td>no</td>\n",
       "      <td>0.0</td>\n",
       "      <td>0.0</td>\n",
       "      <td>Sometimes</td>\n",
       "      <td>Public_Transportation</td>\n",
       "      <td>Overweight_Level_II</td>\n",
       "    </tr>\n",
       "  </tbody>\n",
       "</table>\n",
       "</div>"
      ],
      "text/plain": [
       "   Gender   Age  Height  Weight family_history_with_overweight FAVC  FCVC  \\\n",
       "0  Female  21.0    1.62    64.0                            yes   no   2.0   \n",
       "1  Female  21.0    1.52    56.0                            yes   no   3.0   \n",
       "2    Male  23.0    1.80    77.0                            yes   no   2.0   \n",
       "3    Male  27.0    1.80    87.0                             no   no   3.0   \n",
       "4    Male  22.0    1.78    89.8                             no   no   2.0   \n",
       "\n",
       "   NCP       CAEC SMOKE  CH2O  SCC  FAF  TUE        CALC  \\\n",
       "0  3.0  Sometimes    no   2.0   no  0.0  1.0          no   \n",
       "1  3.0  Sometimes   yes   3.0  yes  3.0  0.0   Sometimes   \n",
       "2  3.0  Sometimes    no   2.0   no  2.0  1.0  Frequently   \n",
       "3  3.0  Sometimes    no   2.0   no  2.0  0.0  Frequently   \n",
       "4  1.0  Sometimes    no   2.0   no  0.0  0.0   Sometimes   \n",
       "\n",
       "                  MTRANS           NObeyesdad  \n",
       "0  Public_Transportation        Normal_Weight  \n",
       "1  Public_Transportation        Normal_Weight  \n",
       "2  Public_Transportation        Normal_Weight  \n",
       "3                Walking   Overweight_Level_I  \n",
       "4  Public_Transportation  Overweight_Level_II  "
      ]
     },
     "metadata": {},
     "output_type": "display_data"
    }
   ],
   "source": [
    "\n",
    "\n",
    "import numpy as np \n",
    "import pandas as pd \n",
    "from sklearn.preprocessing import LabelEncoder\n",
    "import matplotlib.pyplot as plt \n",
    "from sklearn.preprocessing import MinMaxScaler\n",
    "from matplotlib import cm\n",
    "from sklearn.metrics import confusion_matrix, roc_curve, auc, roc_auc_score\n",
    "from sklearn.metrics import accuracy_score, precision_score, recall_score, f1_score\n",
    "from sklearn.decomposition import PCA\n",
    "from sklearn.discriminant_analysis import LinearDiscriminantAnalysis as LDA\n",
    "from sklearn.model_selection import train_test_split\n",
    "from sklearn.linear_model import LogisticRegression\n",
    "from sklearn.tree import DecisionTreeClassifier\n",
    "from sklearn.ensemble import RandomForestClassifier\n",
    "from sklearn.svm import SVC\n",
    "from sklearn.neighbors import KNeighborsClassifier\n",
    "from sklearn.feature_selection import mutual_info_classif\n",
    "from sklearn.feature_selection import RFE\n",
    "from time import time\n",
    "\n",
    "\n",
    "# Load the dataset\n",
    "df = pd.read_csv('ObesityDataSet_raw_and_data_sinthetic.csv')\n",
    "# Display the top 5 rows of the dataset\n",
    "from IPython.display import display\n",
    "# Display the top 5 rows of the dataset\n",
    "display(df.head())\n"
   ]
  },
  {
   "cell_type": "markdown",
   "metadata": {},
   "source": [
    "## 1. Data Preprocessing: \n",
    "\n",
    "Include only steps in Assignment 1 which are sensible for your dataset. "
   ]
  },
  {
   "cell_type": "code",
   "execution_count": 3,
   "metadata": {},
   "outputs": [
    {
     "name": "stdout",
     "output_type": "stream",
     "text": [
      "Missing Values and the :\n",
      " Gender                            0\n",
      "Age                               0\n",
      "Height                            0\n",
      "Weight                            0\n",
      "family_history_with_overweight    0\n",
      "FAVC                              0\n",
      "FCVC                              0\n",
      "NCP                               0\n",
      "CAEC                              0\n",
      "SMOKE                             0\n",
      "CH2O                              0\n",
      "SCC                               0\n",
      "FAF                               0\n",
      "TUE                               0\n",
      "CALC                              0\n",
      "MTRANS                            0\n",
      "NObeyesdad                        0\n",
      "dtype: int64\n",
      "Number of duplicate rows: 24\n"
     ]
    }
   ],
   "source": [
    "# Identify missing values and describe the data quality of the dataset(The dataset by default has no missing values)\n",
    "missing_values = df.isnull().sum()\n",
    "print(\"Missing Values and the :\\n\", missing_values)\n",
    "\n",
    "\n",
    "# Identify duplicate entries from the dataset and describe the data quality of the dataset\n",
    "duplicates = df.duplicated().sum()\n",
    "df = df.drop_duplicates()\n",
    "print(f\"Number of duplicate rows: {duplicates}\")\n"
   ]
  },
  {
   "cell_type": "code",
   "execution_count": 4,
   "metadata": {},
   "outputs": [
    {
     "name": "stdout",
     "output_type": "stream",
     "text": [
      "   Gender       Age    Height    Weight family_history_with_overweight FAVC  \\\n",
      "0  Female  0.148936  0.320755  0.186567                            yes   no   \n",
      "1  Female  0.148936  0.132075  0.126866                            yes   no   \n",
      "2    Male  0.191489  0.660377  0.283582                            yes   no   \n",
      "3    Male  0.276596  0.660377  0.358209                             no   no   \n",
      "4    Male  0.170213  0.622642  0.379104                             no   no   \n",
      "\n",
      "   FCVC       NCP       CAEC SMOKE  CH2O  SCC       FAF  TUE        CALC  \\\n",
      "0   0.5  0.666667  Sometimes    no   0.5   no  0.000000  0.5          no   \n",
      "1   1.0  0.666667  Sometimes   yes   1.0  yes  1.000000  0.0   Sometimes   \n",
      "2   0.5  0.666667  Sometimes    no   0.5   no  0.666667  0.5  Frequently   \n",
      "3   1.0  0.666667  Sometimes    no   0.5   no  0.666667  0.0  Frequently   \n",
      "4   0.5  0.000000  Sometimes    no   0.5   no  0.000000  0.0   Sometimes   \n",
      "\n",
      "                  MTRANS           NObeyesdad  \n",
      "0  Public_Transportation        Normal_Weight  \n",
      "1  Public_Transportation        Normal_Weight  \n",
      "2  Public_Transportation        Normal_Weight  \n",
      "3                Walking   Overweight_Level_I  \n",
      "4  Public_Transportation  Overweight_Level_II  \n"
     ]
    }
   ],
   "source": [
    "# Initialize  MinMaxScaler\n",
    "# This particular normalization method scales the data to a fixed range [0,1]\n",
    "scaler = MinMaxScaler()\n",
    "\n",
    "numerical_columns = df.select_dtypes(include=['float64', 'int64']).columns\n",
    "df[numerical_columns] = scaler.fit_transform(df[numerical_columns])\n",
    "\n",
    "\n",
    "print(df.head())"
   ]
  },
  {
   "cell_type": "code",
   "execution_count": 5,
   "metadata": {},
   "outputs": [
    {
     "name": "stdout",
     "output_type": "stream",
     "text": [
      "Categorical Columns: Index(['Gender', 'family_history_with_overweight', 'FAVC', 'CAEC', 'SMOKE',\n",
      "       'SCC', 'CALC', 'MTRANS', 'NObeyesdad'],\n",
      "      dtype='object')\n"
     ]
    }
   ],
   "source": [
    "# Identify columns that are categorical\n",
    "categorical_columns = df.select_dtypes(include=['object', 'category']).columns\n",
    "print(\"Categorical Columns:\", categorical_columns)"
   ]
  },
  {
   "cell_type": "code",
   "execution_count": 6,
   "metadata": {},
   "outputs": [
    {
     "name": "stdout",
     "output_type": "stream",
     "text": [
      "   Gender       Age    Height    Weight  family_history_with_overweight  FAVC  \\\n",
      "0       0  0.148936  0.320755  0.186567                               1     0   \n",
      "1       0  0.148936  0.132075  0.126866                               1     0   \n",
      "2       1  0.191489  0.660377  0.283582                               1     0   \n",
      "3       1  0.276596  0.660377  0.358209                               0     0   \n",
      "4       1  0.170213  0.622642  0.379104                               0     0   \n",
      "\n",
      "   FCVC       NCP  CAEC  SMOKE  CH2O  SCC       FAF  TUE  CALC  MTRANS  \\\n",
      "0   0.5  0.666667     2      0   0.5    0  0.000000  0.5     3       3   \n",
      "1   1.0  0.666667     2      1   1.0    1  1.000000  0.0     2       3   \n",
      "2   0.5  0.666667     2      0   0.5    0  0.666667  0.5     1       3   \n",
      "3   1.0  0.666667     2      0   0.5    0  0.666667  0.0     1       4   \n",
      "4   0.5  0.000000     2      0   0.5    0  0.000000  0.0     2       3   \n",
      "\n",
      "   NObeyesdad  \n",
      "0           1  \n",
      "1           1  \n",
      "2           1  \n",
      "3           5  \n",
      "4           6  \n"
     ]
    }
   ],
   "source": [
    "label_encoder = LabelEncoder()\n",
    "columns_to_encode = [\n",
    "    'NObeyesdad', 'MTRANS', 'CALC', 'SCC',\n",
    "    'SMOKE', 'CAEC', 'FAVC', 'family_history_with_overweight', 'Gender'\n",
    "]\n",
    "\n",
    "for column in columns_to_encode:\n",
    "    df[column] = label_encoder.fit_transform(df[column])\n",
    "\n",
    "df.to_csv('cleanup_data.csv', index=False)\n",
    "print(df.head())\n"
   ]
  },
  {
   "cell_type": "markdown",
   "metadata": {},
   "source": [
    "## 2. Feature Selection: \n",
    "Apply at least two different feature selection techniques (one from filter and wrapper each)to select relevant features from the dataset. Compare the selected feature sets and justify their relevance to the target variable. "
   ]
  },
  {
   "cell_type": "code",
   "execution_count": 7,
   "metadata": {},
   "outputs": [
    {
     "name": "stdout",
     "output_type": "stream",
     "text": [
      "Mutual Information Scores (Filter Method):\n",
      "                           Feature  Mutual_Info\n",
      "3                           Weight     1.252783\n",
      "1                              Age     0.598882\n",
      "2                           Height     0.416157\n",
      "6                             FCVC     0.392155\n",
      "12                             FAF     0.306089\n",
      "10                            CH2O     0.292139\n",
      "13                             TUE     0.281952\n",
      "7                              NCP     0.265705\n",
      "0                           Gender     0.204387\n",
      "4   family_history_with_overweight     0.166680\n",
      "8                             CAEC     0.137055\n",
      "14                            CALC     0.082861\n",
      "5                             FAVC     0.067466\n",
      "15                          MTRANS     0.066998\n",
      "11                             SCC     0.017684\n",
      "9                            SMOKE     0.006636\n"
     ]
    }
   ],
   "source": [
    "# Filter Method: Mutual Information\n",
    "\n",
    "# Separate features (X) and target variable (y)\n",
    "X = df.drop(columns=['NObeyesdad'])\n",
    "y = df['NObeyesdad']\n",
    "\n",
    "# Calculate mutual information scores for each feature with respect to the target variable\n",
    "mutual_info = mutual_info_classif(X, y, random_state=42)\n",
    "\n",
    "# Store the mutual information scores along with their corresponding feature names\n",
    "mutual_info_scores = pd.DataFrame({\n",
    "    'Feature': X.columns,\n",
    "    'Mutual_Info': mutual_info\n",
    "}).sort_values(by='Mutual_Info', ascending=False)\n",
    "\n",
    "# Print the mutual information scores sorted in descending order\n",
    "print(\"Mutual Information Scores (Filter Method):\")\n",
    "print(mutual_info_scores)\n"
   ]
  },
  {
   "cell_type": "code",
   "execution_count": 8,
   "metadata": {},
   "outputs": [
    {
     "name": "stdout",
     "output_type": "stream",
     "text": [
      "Selected features: [ True  True  True  True False False  True False False False False False\n",
      " False False False False]\n",
      "Feature ranking: [ 1  1  1  1  2  4  1  3  8 10  6  7  5 11  9 12]\n",
      "Model accuracy after RFE: 0.6938\n",
      "[[0.         0.14893617 0.32075472 0.18656716 0.5       ]\n",
      " [0.         0.14893617 0.13207547 0.12686567 1.        ]\n",
      " [1.         0.19148936 0.66037736 0.28358209 0.5       ]\n",
      " ...\n",
      " [0.         0.18136247 0.5702     0.70663696 1.        ]\n",
      " [0.         0.22046672 0.54613208 0.70407941 1.        ]\n",
      " [0.         0.20563211 0.54497358 0.70501971 1.        ]]\n"
     ]
    }
   ],
   "source": [
    "# Wrapper Method: Recursive Feature Elimination (RFE)\n",
    "# Split the data into training and testing sets\n",
    "X_train, X_test, y_train, y_test = train_test_split(X, y, test_size=0.2, random_state=42)\n",
    "\n",
    "# Create a logistic regression model\n",
    "model = LogisticRegression(max_iter=10000)\n",
    "\n",
    "# Create the RFE object, setting the number of features to select\n",
    "rfe = RFE(estimator=model, n_features_to_select=5)\n",
    "\n",
    "# Fit RFE to the training data\n",
    "rfe.fit(X_train, y_train)\n",
    "\n",
    "# Transform the training and testing datasets to the selected features\n",
    "X_train_rfe = rfe.transform(X_train)\n",
    "X_test_rfe = rfe.transform(X_test)\n",
    "\n",
    "# Fit the logistic regression model on the selected features\n",
    "model.fit(X_train_rfe, y_train)\n",
    "\n",
    "# Make predictions and evaluate the model\n",
    "y_pred = model.predict(X_test_rfe)\n",
    "accuracy = accuracy_score(y_test, y_pred)\n",
    "\n",
    "# Print the results\n",
    "print(f\"Selected features: {rfe.support_}\")\n",
    "print(f\"Feature ranking: {rfe.ranking_}\")\n",
    "print(f\"Model accuracy after RFE: {accuracy:.4f}\")\n",
    "\n",
    "# Transform the dataset to include only the selected features\n",
    "X_train_rfe = rfe.transform(X)\n",
    "print(X_train_rfe)\n",
    "\n",
    "\n",
    "\n",
    "\n"
   ]
  },
  {
   "cell_type": "code",
   "execution_count": 9,
   "metadata": {},
   "outputs": [
    {
     "name": "stdout",
     "output_type": "stream",
     "text": [
      "\n",
      "Comparison of Feature Sets:\n",
      "Top 5 Features by Mutual Information: ['Weight' 'Age' 'Height' 'FCVC' 'FAF']\n",
      "Top Features by RFE: ['Gender' 'Age' 'Height' 'Weight' 'FCVC']\n"
     ]
    }
   ],
   "source": [
    "rfe_selected_features = pd.DataFrame({\n",
    "    'Feature': X.columns,\n",
    "    'RFE_Ranking': rfe.ranking_\n",
    "})\n",
    "\n",
    "# Compare the results\n",
    "print(\"\\nComparison of Feature Sets:\")\n",
    "mutual_info_top = mutual_info_scores.head(5)\n",
    "rfe_top = rfe_selected_features[rfe_selected_features['RFE_Ranking'] == 1]\n",
    "\n",
    "print(f\"Top 5 Features by Mutual Information: {mutual_info_top['Feature'].values}\")\n",
    "print(f\"Top Features by RFE: {rfe_top['Feature'].values}\")"
   ]
  },
  {
   "cell_type": "markdown",
   "metadata": {},
   "source": [
    "#### Using the  mutual information method  top features   are Weight , Age and Height,FAF and FVC which are the top 5 features contributes obesity which have highest the number of mutual scores making it relevant to the target variable"
   ]
  },
  {
   "cell_type": "markdown",
   "metadata": {},
   "source": [
    "#### Using RFE we can see that it chooses the top five feature are Gender ,Age ,Height ,Weight, FCVC choosing less feature will give bad model accuracy and performance \n"
   ]
  },
  {
   "cell_type": "markdown",
   "metadata": {},
   "source": [
    "## 3. Feature Reduction:\n",
    " \n",
    "Implement two different feature reduction techniques to reduce the dimensionality of the dataset. Visualize the reduced data and discuss the effect of the reduction on data. "
   ]
  },
  {
   "cell_type": "markdown",
   "metadata": {},
   "source": [
    "####  The cluster after using PCA are not clear they  is no clear boundary for the data points after using it. \n",
    "#### PCA will reduce the dimesion and give maximum  variance"
   ]
  },
  {
   "cell_type": "code",
   "execution_count": 10,
   "metadata": {},
   "outputs": [
    {
     "data": {
      "text/plain": [
       "Text(0.5, 1.0, 'PCA Reduced Data')"
      ]
     },
     "execution_count": 10,
     "metadata": {},
     "output_type": "execute_result"
    },
    {
     "data": {
      "image/png": "[encoded data removed]",
      "text/plain": [
       "<Figure size 1000x500 with 1 Axes>"
      ]
     },
     "metadata": {},
     "output_type": "display_data"
    }
   ],
   "source": [
    "# PCA for Feature Reduction (reducing to 2 components for visualization)\n",
    "pca = PCA(n_components=2)\n",
    "X_pca = pca.fit_transform(X)\n",
    "\n",
    "# Visualizing PCA Reduced Data\n",
    "plt.figure(figsize=(10, 5))\n",
    "plt.subplot(1, 2, 1)\n",
    "plt.scatter(X_pca[:, 0], X_pca[:, 1], c=y, cmap='viridis')\n",
    "plt.title('PCA Reduced Data')\n",
    "\n"
   ]
  },
  {
   "cell_type": "markdown",
   "metadata": {},
   "source": [
    "#### On the other hand why LDA is better than PCA take the direction where the variance of the projected points is the lowest the distance mean of projected point of individual categories should be able as high as possible . Therefore clustering becomes easier and becomes clearly as shown in the plots"
   ]
  },
  {
   "cell_type": "code",
   "execution_count": 11,
   "metadata": {},
   "outputs": [
    {
     "data": {
      "image/png": "[encoded data removed]",
      "text/plain": [
       "<Figure size 640x480 with 1 Axes>"
      ]
     },
     "metadata": {},
     "output_type": "display_data"
    }
   ],
   "source": [
    "# LDA for Feature Reduction (reducing to 2 components for visualization)\n",
    "lda = LDA(n_components=2)\n",
    "X_lda = lda.fit_transform(X, y)\n",
    "\n",
    "# Visualizing LDA Reduced Data\n",
    "plt.subplot(1, 2, 2)\n",
    "plt.scatter(X_lda[:, 0], X_lda[:, 1], c=y, cmap='viridis')\n",
    "plt.title('LDA Reduced Data')\n",
    "plt.show()"
   ]
  },
  {
   "cell_type": "markdown",
   "metadata": {},
   "source": [
    "## 4 Classification: \n",
    "Experiment with five stand-alone classifiers (e.g., Logistic Regression, Decision Tree, Random Forest, SVM, K-Nearest Neighbors) using: \n",
    "\n",
    "(a) the original dataset, \n",
    "\n",
    "(b) the feature-selected dataset, \n",
    "\n",
    "(c) the feature-reduced dataset. Compare the classification accuracy and other relevant metrics (e.g., precision, recall, F1-score) for each dataset. "
   ]
  },
  {
   "cell_type": "code",
   "execution_count": null,
   "metadata": {},
   "outputs": [
    {
     "name": "stdout",
     "output_type": "stream",
     "text": [
      "Classifier: Logistic Regression\n",
      "Classifier: Decision Tree\n"
     ]
    },
    {
     "name": "stderr",
     "output_type": "stream",
     "text": [
      "c:\\Users\\Georg\\AppData\\Local\\Programs\\Python\\Python312\\Lib\\site-packages\\sklearn\\metrics\\_classification.py:1531: UndefinedMetricWarning: Precision is ill-defined and being set to 0.0 in labels with no predicted samples. Use `zero_division` parameter to control this behavior.\n",
      "  _warn_prf(average, modifier, f\"{metric.capitalize()} is\", len(result))\n"
     ]
    },
    {
     "name": "stdout",
     "output_type": "stream",
     "text": [
      "Classifier: Random Forest\n",
      "Classifier: SVM\n"
     ]
    },
    {
     "name": "stderr",
     "output_type": "stream",
     "text": [
      "c:\\Users\\Georg\\AppData\\Local\\Programs\\Python\\Python312\\Lib\\site-packages\\sklearn\\metrics\\_classification.py:1531: UndefinedMetricWarning: Precision is ill-defined and being set to 0.0 in labels with no predicted samples. Use `zero_division` parameter to control this behavior.\n",
      "  _warn_prf(average, modifier, f\"{metric.capitalize()} is\", len(result))\n"
     ]
    },
    {
     "name": "stdout",
     "output_type": "stream",
     "text": [
      "Classifier: K-Nearest Neighbors\n",
      "\n",
      "Logistic Regression:\n",
      "Original: Accuracy = 0.71, Precision = 0.70, Recall = 0.71, F1-Score = 0.70, Time = 0.0988s\n",
      "PCA Reduced: Accuracy = 0.36, Precision = 0.25, Recall = 0.36, F1-Score = 0.25, Time = 0.0000s\n",
      "LDA Reduced: Accuracy = 0.92, Precision = 0.92, Recall = 0.92, F1-Score = 0.92, Time = 0.0325s\n",
      "RFE: Accuracy = 0.70, Precision = 0.69, Recall = 0.70, F1-Score = 0.68, Time = 0.0161s\n",
      "\n",
      "Decision Tree:\n",
      "Original: Accuracy = 0.93, Precision = 0.94, Recall = 0.93, F1-Score = 0.93, Time = 0.0156s\n",
      "PCA Reduced: Accuracy = 0.56, Precision = 0.55, Recall = 0.56, F1-Score = 0.55, Time = 0.0032s\n",
      "LDA Reduced: Accuracy = 0.91, Precision = 0.92, Recall = 0.91, F1-Score = 0.91, Time = 0.0059s\n",
      "RFE: Accuracy = 0.93, Precision = 0.94, Recall = 0.93, F1-Score = 0.93, Time = 0.0065s\n",
      "\n",
      "Random Forest:\n",
      "Original: Accuracy = 0.95, Precision = 0.95, Recall = 0.95, F1-Score = 0.95, Time = 0.2732s\n",
      "PCA Reduced: Accuracy = 0.63, Precision = 0.62, Recall = 0.63, F1-Score = 0.62, Time = 0.2408s\n",
      "LDA Reduced: Accuracy = 0.91, Precision = 0.92, Recall = 0.91, F1-Score = 0.91, Time = 0.2049s\n",
      "RFE: Accuracy = 0.96, Precision = 0.96, Recall = 0.96, F1-Score = 0.96, Time = 0.2052s\n",
      "\n",
      "SVM:\n",
      "Original: Accuracy = 0.68, Precision = 0.67, Recall = 0.68, F1-Score = 0.67, Time = 0.1067s\n",
      "PCA Reduced: Accuracy = 0.43, Precision = 0.37, Recall = 0.43, F1-Score = 0.36, Time = 0.1044s\n",
      "LDA Reduced: Accuracy = 0.92, Precision = 0.93, Recall = 0.92, F1-Score = 0.92, Time = 0.0268s\n",
      "RFE: Accuracy = 0.85, Precision = 0.85, Recall = 0.85, F1-Score = 0.85, Time = 0.0730s\n",
      "\n",
      "K-Nearest Neighbors:\n",
      "Original: Accuracy = 0.76, Precision = 0.75, Recall = 0.76, F1-Score = 0.75, Time = 0.1938s\n",
      "PCA Reduced: Accuracy = 0.62, Precision = 0.60, Recall = 0.62, F1-Score = 0.60, Time = 0.0375s\n",
      "LDA Reduced: Accuracy = 0.92, Precision = 0.92, Recall = 0.92, F1-Score = 0.92, Time = 0.0255s\n",
      "RFE: Accuracy = 0.87, Precision = 0.87, Recall = 0.87, F1-Score = 0.87, Time = 0.0347s\n"
     ]
    }
   ],
   "source": [
    "# Train/Test split\n",
    "X_train, X_test, y_train, y_test = train_test_split(X, y, test_size=0.3, random_state=42)\n",
    "X_pca_train, X_pca_test = train_test_split(X_pca, test_size=0.3, random_state=42)\n",
    "X_lda_train, X_lda_test = train_test_split(X_lda, test_size=0.3, random_state=42)\n",
    "X_train_rfe, X_rfe_test, y_rfe, y_test = train_test_split(X_train_rfe, y, test_size=0.3, random_state=42)\n",
    "\n",
    "# List of classifiers\n",
    "classifiers = {\n",
    "    \"Logistic Regression\": LogisticRegression(max_iter=1000),\n",
    "    \"Decision Tree\": DecisionTreeClassifier(),\n",
    "    \"Random Forest\": RandomForestClassifier(),\n",
    "    \"SVM\": SVC(),\n",
    "    \"K-Nearest Neighbors\": KNeighborsClassifier()\n",
    "}\n",
    "\n",
    "# Function to evaluate classifiers\n",
    "def evaluate_classifier(X_train, X_test, y_train, y_test, classifier):\n",
    "    start_time = time()\n",
    "    clf = classifier\n",
    "    clf.fit(X_train, y_train)\n",
    "    y_pred = clf.predict(X_test)\n",
    "    end_time = time()\n",
    "    accuracy = accuracy_score(y_test, y_pred)\n",
    "    precision = precision_score(y_test, y_pred, average='weighted')\n",
    "    recall = recall_score(y_test, y_pred, average='weighted')\n",
    "    f1 = f1_score(y_test, y_pred, average='weighted')\n",
    "    computation_time = end_time - start_time\n",
    "    return accuracy, precision, recall, f1, computation_time\n",
    "\n",
    "# Evaluate on original, PCA, LDA, and RFE datasets\n",
    "results = {}\n",
    "\n",
    "for name, clf in classifiers.items():\n",
    "    print(f\"Classifier: {name}\")\n",
    "    \n",
    "    # Original Dataset\n",
    "    acc_orig, prec_orig, rec_orig, f1_orig, time_orig = evaluate_classifier(X_train, X_test, y_train, y_test, clf)\n",
    "    \n",
    "    # PCA Reduced Dataset\n",
    "    acc_pca, prec_pca, rec_pca, f1_pca, time_pca = evaluate_classifier(X_pca_train, X_pca_test, y_train, y_test, clf)\n",
    "    \n",
    "    # LDA Reduced Dataset\n",
    "    acc_lda, prec_lda, rec_lda, f1_lda, time_lda = evaluate_classifier(X_lda_train, X_lda_test, y_train, y_test, clf)\n",
    "\n",
    "    # RFE Selected Dataset\n",
    "    acc_rfe, prec_rfe, rec_rfe, f1_rfe, time_rfe = evaluate_classifier(X_train_rfe, X_rfe_test, y_rfe, y_test, clf)\n",
    "    \n",
    "    # Store results for comparison\n",
    "    results[name] = {\n",
    "        \"Original\": [acc_orig, prec_orig, rec_orig, f1_orig, time_orig],\n",
    "        \"PCA\": [acc_pca, prec_pca, rec_pca, f1_pca, time_pca],\n",
    "        \"LDA\": [acc_lda, prec_lda, rec_lda, f1_lda, time_lda],\n",
    "        \"RFE\": [acc_rfe, prec_rfe, rec_rfe, f1_rfe, time_rfe]\n",
    "    }\n",
    "\n",
    "# Display results\n",
    "for name, metrics in results.items():\n",
    "    print(f\"\\n{name}:\")\n",
    "    print(f\"Original: Accuracy = {metrics['Original'][0]:.2f}, Precision = {metrics['Original'][1]:.2f}, Recall = {metrics['Original'][2]:.2f}, F1-Score = {metrics['Original'][3]:.2f}, Time = {metrics['Original'][4]:.4f}s\")\n",
    "    print(f\"PCA Reduced: Accuracy = {metrics['PCA'][0]:.2f}, Precision = {metrics['PCA'][1]:.2f}, Recall = {metrics['PCA'][2]:.2f}, F1-Score = {metrics['PCA'][3]:.2f}, Time = {metrics['PCA'][4]:.4f}s\")\n",
    "    print(f\"LDA Reduced: Accuracy = {metrics['LDA'][0]:.2f}, Precision = {metrics['LDA'][1]:.2f}, Recall = {metrics['LDA'][2]:.2f}, F1-Score = {metrics['LDA'][3]:.2f}, Time = {metrics['LDA'][4]:.4f}s\")\n",
    "    print(f\"RFE: Accuracy = {metrics['RFE'][0]:.2f}, Precision = {metrics['RFE'][1]:.2f}, Recall = {metrics['RFE'][2]:.2f}, F1-Score = {metrics['RFE'][3]:.2f}, Time = {metrics['RFE'][4]:.4f}s\")"
   ]
  },
  {
   "cell_type": "markdown",
   "metadata": {},
   "source": [
    "#### Among the five classifiers i have used random forest give me the highest accuracy as compared to the other classifiers.It combines multiple decision trees the model the stronger and more accurate therefore making it better than the classifiers"
   ]
  },
  {
   "cell_type": "markdown",
   "metadata": {},
   "source": [
    "## Analysis and Conclusion: \n",
    "Analyze the results and discuss the impact of feature selection and feature reduction on classifier performance. Highlight any significant differences in accuracy and computational efficiency. Provide recommendations on when to use feature selection vs. feature reduction in machine learning pipelines. "
   ]
  },
  {
   "cell_type": "markdown",
   "metadata": {},
   "source": [
    "## Impacts on feature selection \n",
    "Feature selection and feature reduction both aim to improve model performance and computational efficiency, but they do so in different ways.\n",
    "\n",
    "### Impact on Classifier Performance:\n",
    "- **Feature Selection**: By selecting the most relevant features, feature selection can improve model performance by removing noise and irrelevant data. This often leads to better accuracy, precision, recall, and F1-scores. For example, using mutual information and RFE, we identified key features that contribute significantly to the target variable, which improved the performance of classifiers.\n",
    "- **Feature Reduction**: Techniques like PCA and LDA reduce the dimensionality of the dataset by transforming features into a lower-dimensional space. This can help in visualizing data and may improve model performance by eliminating multicollinearity. However, it may also lead to loss of interpretability and sometimes important information.\n",
    "\n",
    "### Differences in Accuracy and Computational Efficiency:\n",
    "- **Accuracy**: In our experiments, feature selection methods like RFE and mutual information provided a set of features that led to high accuracy, especially with classifiers like Random Forest. Feature reduction methods like PCA and LDA also performed well but sometimes lagged behind feature selection in terms of accuracy.\n",
    "- **Computational Efficiency**: Significant differences in computational efficiency are observed when comparing the results. PCA generally reduces computation time across classifiers, such as the drop from 0.1215s to 0.0065s for Logistic Regression and from 0.2648s to 0.2351s for Random Forest. LDA, while maintaining high accuracy, also shows improvements in efficiency, such as reducing the time for SVM from 0.0952s to 0.0277s. RFE tends to be competitive in both accuracy and time, often achieving the best balance, such as with Decision Trees, where time is reduced from 0.0186s to 0.0076s without loss in performance.\n",
    "### Recommendations:\n",
    "- **When to Use Feature Selection**: Use feature selection when you need to maintain interpretability and understand the importance of each feature. It is particularly useful when you have a large number of features and want to identify the most relevant ones.\n",
    "- **When to Use Feature Reduction**: Use feature reduction when you need to visualize data in lower dimensions or when you want to eliminate multicollinearity. It is useful when dealing with high-dimensional data where interpretability is less of a concern.\n",
    "\n",
    "In conclusion, both feature selection and feature reduction have their own advantages and should be chosen based on the specific requirements of the machine learning task at hand."
   ]
  }
 ],
 "metadata": {
  "kernelspec": {
   "display_name": "Python 3",
   "language": "python",
   "name": "python3"
  },
  "language_info": {
   "codemirror_mode": {
    "name": "ipython",
    "version": 3
   },
   "file_extension": ".py",
   "mimetype": "text/x-python",
   "name": "python",
   "nbconvert_exporter": "python",
   "pygments_lexer": "ipython3",
   "version": "3.12.7"
  }
 },
 "nbformat": 4,
 "nbformat_minor": 2
}
