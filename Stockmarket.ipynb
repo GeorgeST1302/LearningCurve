{
 "cells": [
  {
   "cell_type": "code",
   "execution_count": 5,
   "metadata": {},
   "outputs": [],
   "source": [
    "import numpy             as np\n",
    "import pandas            as pd\n",
    "import matplotlib        as mlb\n",
    "import matplotlib.pyplot as plt\n",
    "import seaborn           as sns\n",
    "df = pd.read_csv(\"Stock_Market_Data.csv\")"
   ]
  },
  {
   "cell_type": "code",
   "execution_count": 3,
   "metadata": {},
   "outputs": [
    {
     "data": {
      "text/plain": [
       "<bound method NDFrame.head of              Date        Name    Open    High     Low   Close      Volume\n",
       "0      02-01-2022     01.Bank   22.83   23.20   22.59   22.93  1842350.41\n",
       "1      03-01-2022     01.Bank   23.03   23.29   22.74   22.90  1664989.63\n",
       "2      04-01-2022     01.Bank   22.85   23.13   22.64   22.84  1354510.97\n",
       "3      05-01-2022     01.Bank   22.91   23.20   22.70   22.98  1564334.81\n",
       "4      06-01-2022     01.Bank   23.12   23.65   23.00   23.37  2586344.19\n",
       "...           ...         ...     ...     ...     ...     ...         ...\n",
       "49153  26-06-2022  ZEALBANGLA  169.00  174.90  169.00  170.30    10480.00\n",
       "49154  27-06-2022  ZEALBANGLA  174.10  176.00  166.90  167.50    13817.00\n",
       "49155  28-06-2022  ZEALBANGLA  170.00  170.90  167.00  168.10     5214.00\n",
       "49156  29-06-2022  ZEALBANGLA  167.10  169.00  164.90  165.10     6678.00\n",
       "49157  30-06-2022  ZEALBANGLA  165.10  174.00  164.00  172.20     5883.00\n",
       "\n",
       "[49158 rows x 7 columns]>"
      ]
     },
     "execution_count": 3,
     "metadata": {},
     "output_type": "execute_result"
    }
   ],
   "source": [
    "df.head"
   ]
  },
  {
   "cell_type": "code",
   "execution_count": 4,
   "metadata": {},
   "outputs": [
    {
     "data": {
      "text/plain": [
       "(49158, 7)"
      ]
     },
     "execution_count": 4,
     "metadata": {},
     "output_type": "execute_result"
    }
   ],
   "source": [
    "df.shape"
   ]
  }
 ],
 "metadata": {
  "kernelspec": {
   "display_name": "Python 3",
   "language": "python",
   "name": "python3"
  },
  "language_info": {
   "codemirror_mode": {
    "name": "ipython",
    "version": 3
   },
   "file_extension": ".py",
   "mimetype": "text/x-python",
   "name": "python",
   "nbconvert_exporter": "python",
   "pygments_lexer": "ipython3",
   "version": "3.12.5"
  }
 },
 "nbformat": 4,
 "nbformat_minor": 2
}
