{
 "cells": [
  {
   "cell_type": "code",
   "execution_count": 148,
   "metadata": {},
   "outputs": [],
   "source": [
    "import numpy as np\n",
    "import matplotlib.pyplot as plt\n",
    "from sklearn.metrics import mean_squared_error\n",
    "x = np.array([[0,0],[0,1],[1,0],[1,1]])\n",
    "y = np.array([[1,0],[0,1],[0,1],[1,0]])"
   ]
  },
  {
   "cell_type": "code",
   "execution_count": 149,
   "metadata": {},
   "outputs": [],
   "source": [
    "nx =2  # input layer \n",
    "nh = 2 #hidden layer\n",
    "ny = 2 #output layer\n",
    "lr =  0.01\n",
    "epochs = 10000"
   ]
  },
  {
   "cell_type": "code",
   "execution_count": 150,
   "metadata": {},
   "outputs": [],
   "source": [
    "w1 = np.random.randn(nh,nx)\n",
    "w2 = np.random.randn(nh,nh)\n",
    "w3 = np.random.randn(ny,nh)"
   ]
  },
  {
   "cell_type": "code",
   "execution_count": 151,
   "metadata": {},
   "outputs": [],
   "source": [
    "def tanh(x) :\n",
    "    return np.tanh(x) # Activation function\n",
    "def tanh_deiv(x):\n",
    "    return 1-np.tanh(x)**2#Derivative of Activation function\n",
    "def linear (x):\n",
    "    return x #Output layer\n",
    "def linear_deriv(x):\n",
    "    return 1 \n",
    "\n"
   ]
  },
  {
   "cell_type": "code",
   "execution_count": 152,
   "metadata": {},
   "outputs": [],
   "source": [
    "def fprop(w1,w2,w3,x):\n",
    "    z1 = np.dot(x,w1.T)\n",
    "    a1 = tanh(z1)\n",
    "\n",
    "    z2 = np.dot(a1,w2.T)\n",
    "    a2 = tanh(z2)\n",
    "\n",
    "    z3 = np.dot(a2,w3.T)\n",
    "    a3 = linear(z3)\n",
    "    return z1,a1,z2,a2,z3,a3 # z1 ,z2,z3 are weightted sums"
   ]
  },
  {
   "cell_type": "code",
   "execution_count": 153,
   "metadata": {},
   "outputs": [],
   "source": [
    "def backprop (w1,w2,w3,a1,z1,a2,z2,z3,a3,y):\n",
    "    e3 = y-a3\n",
    "    del3 = linear_deriv(z3)*e3\n",
    "    e2 = np.dot(del3,w3)\n",
    "    del2 = tanh_deiv(z2)*e2\n",
    "    e1 = np.dot(del2,w2)\n",
    "    del1 = tanh_deiv(z1)*e1\n",
    "\n",
    "    dw3 =  lr * np.dot(del3.T,a2)\n",
    "    dw2 = lr * np.dot(del2.T,a1)\n",
    "    dw1 = lr * np.dot(del1.T,x)\n",
    "\n",
    "    return dw3,dw2,dw1\n",
    "\n",
    "\n"
   ]
  },
  {
   "cell_type": "code",
   "execution_count": null,
   "metadata": {},
   "outputs": [],
   "source": [
    "losses = []\n",
    "for i in range (epochs) :\n",
    "    z1,a1,z2,a2+,z3,a3 = fprop(w1,w2,w3,x)\n",
    "    loss = mean_squared_error(y,a3)\n",
    "    losses.append(loss)\n",
    "    dw3,dw2,dw1 = backprop(w1,w2,w3,a1,z1,a2,z2,z3,a3,y)\n",
    "    #update the weights\n",
    "    w3 += dw3\n",
    "    w2 += dw2\n",
    "    w1 += dw1"
   ]
  },
  {
   "cell_type": "code",
   "execution_count": 155,
   "metadata": {},
   "outputs": [
    {
     "data": {
      "image/png": "[encoded data removed]",
      "text/plain": [
       "<Figure size 640x480 with 1 Axes>"
      ]
     },
     "metadata": {},
     "output_type": "display_data"
    },
    {
     "name": "stdout",
     "output_type": "stream",
     "text": [
      "For input [0 0] output is [0,0]\n",
      "For input [0 1] output is [0,1]\n",
      "For input [1 0] output is [0,1]\n",
      "For input [1 1] output is [1,0]\n"
     ]
    }
   ],
   "source": [
    "plt.plot(losses)\n",
    "plt.xlabel('epochs')\n",
    "plt.ylabel('loss')\n",
    "plt.title(\"Loss curve\")\n",
    "plt.show()\n",
    "\n",
    "def predict(w1, w2, w3, inp):\n",
    "    z1, a1, z2, a2, z3, a3 = fprop(w1, w2, w3, inp)\n",
    "    \n",
    "    if a3[0] >= 0.5 and a3[1] >= 0.5:\n",
    "        print(\"For input\", inp, \"output is [1,1]\")\n",
    "    elif a3[0] >= 0.5 and a3[1] < 0.5:\n",
    "        print(\"For input\", inp, \"output is [1,0]\")\n",
    "    elif a3[0] < 0.5 and a3[1] >= 0.5:\n",
    "        print(\"For input\", inp, \"output is [0,1]\")  \n",
    "    else:\n",
    "        print(\"For input\", inp, \"output is [0,0]\")\n",
    "\n",
    "\n",
    "test1=np.array([0,0])\n",
    "test2=np.array([0,1])\n",
    "test3=np.array([1,0])\n",
    "test4=np.array([1,1])\n",
    "\n",
    "predict(w1,w2,w3,test1)\n",
    "predict(w1,w2,w3,test2)\n",
    "predict(w1,w2,w3,test3)\n",
    "predict(w1,w2,w3,test4)"
   ]
  }
 ],
 "metadata": {
  "kernelspec": {
   "display_name": "Python 3",
   "language": "python",
   "name": "python3"
  },
  "language_info": {
   "codemirror_mode": {
    "name": "ipython",
    "version": 3
   },
   "file_extension": ".py",
   "mimetype": "text/x-python",
   "name": "python",
   "nbconvert_exporter": "python",
   "pygments_lexer": "ipython3",
   "version": "3.13.1"
  }
 },
 "nbformat": 4,
 "nbformat_minor": 2
}
