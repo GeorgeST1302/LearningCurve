{
 "cells": [
  {
   "cell_type": "code",
   "execution_count": 1,
   "metadata": {},
   "outputs": [
    {
     "ename": "ModuleNotFoundError",
     "evalue": "No module named 'numpy'",
     "output_type": "error",
     "traceback": [
      "\u001b[1;31m---------------------------------------------------------------------------\u001b[0m",
      "\u001b[1;31mModuleNotFoundError\u001b[0m                       Traceback (most recent call last)",
      "Cell \u001b[1;32mIn[1], line 1\u001b[0m\n\u001b[1;32m----> 1\u001b[0m \u001b[38;5;28;01mimport\u001b[39;00m\u001b[38;5;250m \u001b[39m\u001b[38;5;21;01mnumpy\u001b[39;00m\u001b[38;5;250m \u001b[39m\u001b[38;5;28;01mas\u001b[39;00m\u001b[38;5;250m \u001b[39m\u001b[38;5;21;01mnp\u001b[39;00m\n\u001b[0;32m      2\u001b[0m \u001b[38;5;28;01mimport\u001b[39;00m\u001b[38;5;250m \u001b[39m\u001b[38;5;21;01mmatplotlib\u001b[39;00m\u001b[38;5;21;01m.\u001b[39;00m\u001b[38;5;21;01mpyplot\u001b[39;00m\u001b[38;5;250m \u001b[39m\u001b[38;5;28;01mas\u001b[39;00m\u001b[38;5;250m \u001b[39m\u001b[38;5;21;01mplt\u001b[39;00m\n\u001b[0;32m      3\u001b[0m \u001b[38;5;28;01mdef\u001b[39;00m\u001b[38;5;250m \u001b[39m\u001b[38;5;21msigmoid\u001b[39m(x):\n",
      "\u001b[1;31mModuleNotFoundError\u001b[0m: No module named 'numpy'"
     ]
    }
   ],
   "source": [
    "import numpy as np\n",
    "import matplotlib.pyplot as plt\n",
    "def sigmoid(x):\n",
    "    return 1 / (1 + np.exp(-x))"
   ]
  },
  {
   "cell_type": "code",
   "execution_count": null,
   "metadata": {},
   "outputs": [],
   "source": [
    "def sigmoid_derivative(x):\n",
    "    return x * (1 - x)"
   ]
  },
  {
   "cell_type": "code",
   "execution_count": null,
   "metadata": {},
   "outputs": [],
   "source": [
    "\n",
    "\n",
    "\n",
    "\n",
    "\n",
    "n_epochs = 10000\n",
    "alpha = 0.1  \n",
    "n_input = 2  \n",
    "n_hidden = 2  \n",
    "n_output = 1  \n",
    "hardlim = np.vectorize(lambda x: 1 if x >= 0.5 else 0) \n"
   ]
  },
  {
   "cell_type": "code",
   "execution_count": null,
   "metadata": {},
   "outputs": [],
   "source": [
    "np.random.seed(1)\n",
    "weights_input_hidden = np.random.uniform(-1, 1, (n_input, n_hidden))\n",
    "weights_hidden_output = np.random.uniform(-1, 1, (n_hidden, n_output))\n",
    "bias_hidden = np.random.uniform(-1, 1, (1, n_hidden))\n",
    "bias_output = np.random.uniform(-1, 1, (1, n_output))\n",
    "\n",
    "errors = []\n",
    "for epoch in range(n_epochs):\n",
    "    # Forward pass\n",
    "    hidden_input = np.dot(x, weights_input_hidden) + bias_hidden\n",
    "    hidden_output = sigmoid(hidden_input)\n",
    "    final_input = np.dot(hidden_output, weights_hidden_output) + bias_output\n",
    "    final_output = sigmoid(final_input)\n",
    "\n",
    "    error = y - final_output\n",
    "    total_error = np.sum(error ** 2)\n",
    "    errors.append(total_error)\n",
    "\n",
    "    # Backpropagation\n",
    "    output_gradient = error * sigmoid_derivative(final_output)\n",
    "    hidden_gradient = np.dot(output_gradient, weights_hidden_output.T) * sigmoid_derivative(hidden_output)\n",
    "\n",
    "    # Update weights and biases\n",
    "    weights_hidden_output += alpha * np.dot(hidden_output.T, output_gradient)\n",
    "    bias_output += alpha * np.sum(output_gradient, axis=0, keepdims=True)\n",
    "\n",
    "    weights_input_hidden += alpha * np.dot(x.T, hidden_gradient)\n",
    "    bias_hidden += alpha * np.sum(hidden_gradient, axis=0, keepdims=True)"
   ]
  },
  {
   "cell_type": "code",
   "execution_count": null,
   "metadata": {},
   "outputs": [],
   "source": [
    "# Plot error over epochs\n",
    "plt.plot(range(n_epochs), errors)\n",
    "plt.title(\"Error Over Epochs\")\n",
    "plt.xlabel(\"Epochs\")\n",
    "plt.ylabel(\"Total Error\")\n",
    "plt.show()\n",
    "\n",
    "# Forward pass to get the final output for the 4 input combinations\n",
    "hidden_input = np.dot(x, weights_input_hidden) + bias_hidden\n",
    "hidden_output = sigmoid(hidden_input)\n",
    "final_input = np.dot(hidden_output, weights_hidden_output) + bias_output\n",
    "final_output = sigmoid(final_input)\n",
    "final_output = hardlim(final_output)\n",
    "\n",
    "print(\"Outputs for the 4 input combinations:\")\n",
    "for i in range(len(x)):\n",
    "    print(f\"Input: {x[i]} => Output: {final_output[i]}\")"
   ]
  }
 ],
 "metadata": {
  "kernelspec": {
   "display_name": "Python 3",
   "language": "python",
   "name": "python3"
  },
  "language_info": {
   "codemirror_mode": {
    "name": "ipython",
    "version": 3
   },
   "file_extension": ".py",
   "mimetype": "text/x-python",
   "name": "python",
   "nbconvert_exporter": "python",
   "pygments_lexer": "ipython3",
   "version": "3.12.8"
  }
 },
 "nbformat": 4,
 "nbformat_minor": 2
}
