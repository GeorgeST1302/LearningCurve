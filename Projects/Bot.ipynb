
{
 "cells": [
  {
   "cell_type": "code",
   "execution_count": 26,
   "metadata": {},
   "outputs": [
    {
     "name": "stdout",
     "output_type": "stream",
     "text": [
      "Renamed: Dharma\\Books and Papers\\10 How_to_Become_a_Brahman_The_Construction.pdf -> Dharma\\Books and Papers\\Chapter 10.pdf\n",
      "Renamed: Dharma\\Books and Papers\\11 Argument and Design_ The Unity of the Mahabharata (2016, Brill Academic Publishers) - libgen.li.pdf -> Dharma\\Books and Papers\\Chapter 11.pdf\n",
      "Renamed: Dharma\\Books and Papers\\12 The_ideology_of_self_willed_death_in_the.pdf -> Dharma\\Books and Papers\\Chapter 12.pdf\n",
      "Renamed: Dharma\\Books and Papers\\13 Mahabharata_Dialogues_on_Dharma_and_Dev.pdf -> Dharma\\Books and Papers\\Chapter 13.pdf\n",
      "Renamed: Dharma\\Books and Papers\\14 Rethinking the Mahabharata_ A Reader's Guide to the Education of the Dharma King (2001, University Of Chicago Press) - libgen.li.pdf -> Dharma\\Books and Papers\\Chapter 14.pdf\n",
      "Renamed: Dharma\\Books and Papers\\15 Dharma_ its early history in law, religion, and narrative (2011, Oxford University Press) - libgen.li.pdf -> Dharma\\Books and Papers\\Chapter 15.pdf\n",
      "Renamed: Dharma\\Books and Papers\\16 Not Without Subtales_ Telling Laws And Truths in The Sanskrit Epics (2005) [10.1007_s10781-005-7050-9] - libgen.li.pdf -> Dharma\\Books and Papers\\Chapter 16.pdf\n",
      "Renamed: Dharma\\Books and Papers\\17 Reading the Fifth Veda_ Studies on the Mahabharata - Essays by Alf Hilteb.pdf -> Dharma\\Books and Papers\\Chapter 17.pdf\n",
      "Renamed: Dharma\\Books and Papers\\18 The Story of Sāvitrī in the Mahābhārata A Lineal Interpretation.pdf -> Dharma\\Books and Papers\\Chapter 18.pdf\n",
      "Renamed: Dharma\\Books and Papers\\19 Essays on the Mahabharata (Brill's Indological Library) (1991, Brill Academic Pub) - libgen.li.pdf -> Dharma\\Books and Papers\\Chapter 19.pdf\n",
      "Renamed: Dharma\\Books and Papers\\2 Redefining Dharma in a Time of Transition Anṛśaṁsya in the Mahābhārata as an Alternative End of Human Life.pdf -> Dharma\\Books and Papers\\Chapter 2.pdf\n",
      "Renamed: Dharma\\Books and Papers\\20ADAM~1.PDF -> Dharma\\Books and Papers\\Chapter 20.pdf\n",
      "Renamed: Dharma\\Books and Papers\\22 The Mahābhārata and Dharma Discourse.pdf -> Dharma\\Books and Papers\\Chapter 22.pdf\n",
      "Renamed: Dharma\\Books and Papers\\24 The Salvation of the King in the Mahabharata_Biardeau.pdf -> Dharma\\Books and Papers\\Chapter 24.pdf\n",
      "Renamed: Dharma\\Books and Papers\\25 The-Ritual-of-Battle-Krishna-in-the-Mahabharata.pdf -> Dharma\\Books and Papers\\Chapter 25.pdf\n",
      "Renamed: Dharma\\Books and Papers\\26 The Nay Science.pdf -> Dharma\\Books and Papers\\Chapter 26.pdf\n",
      "Renamed: Dharma\\Books and Papers\\3 Kings withouit authority.pdf -> Dharma\\Books and Papers\\Chapter 3.pdf\n",
      "Renamed: Dharma\\Books and Papers\\4 Disorienting dharma ethics and the aesthetics of suffering in the mahābhārata.pdf -> Dharma\\Books and Papers\\Chapter 4.pdf\n",
      "Renamed: Dharma\\Books and Papers\\5 Ethics_and_Hermeneutics_in_the_Mahabhara.pdf -> Dharma\\Books and Papers\\Chapter 5.pdf\n",
      "Renamed: Dharma\\Books and Papers\\6 Philology_and_Criticism.pdf -> Dharma\\Books and Papers\\Chapter 6.pdf\n",
      "Renamed: Dharma\\Books and Papers\\7 Maximizing Dharma Krsna’s Consequentialism in the Mahabharata.pdf -> Dharma\\Books and Papers\\Chapter 7.pdf\n",
      "File renaming and deletion process completed.\n"
     ]
    },
    {
     "name": "stderr",
     "output_type": "stream",
     "text": [
      "<>:5: SyntaxWarning: invalid escape sequence '\\B'\n",
      "<>:5: SyntaxWarning: invalid escape sequence '\\B'\n",
      "C:\\Users\\Georg\\AppData\\Local\\Temp\\ipykernel_25680\\2288316682.py:5: SyntaxWarning: invalid escape sequence '\\B'\n",
      "  directory = 'Dharma\\Books and Papers'\n"
     ]
    }
   ],
   "source": [
    "import os\n",
    "import re\n",
    "\n",
    "# Define the directory containing the files\n",
    "directory = 'Dharma\\Books and Papers'\n",
    "\n",
    "\n",
    "# Check if the directory exists\n",
    "if not os.path.isdir(directory):\n",
    "    raise FileNotFoundError(f\"The directory {directory} does not exist.\")\n",
    "\n",
    "# Function to extract the number from the filename\n",
    "def extract_number(filename):\n",
    "    match = re.search(r'(\\d+)', filename)\n",
    "    if match:\n",
    "        return int(match.group(1))\n",
    "    return None\n",
    "\n",
    "# Process each file in the directory\n",
    "for filename in os.listdir(directory):\n",
    "    file_path = os.path.join(directory, filename)\n",
    "    \n",
    "    # Skip directories and process only files\n",
    "    if os.path.isfile(file_path):\n",
    "        number = extract_number(filename)\n",
    "        if number is not None and 2 <= number <= 26:\n",
    "            # Construct the new filename\n",
    "            new_filename = f'Chapter {number}.pdf'\n",
    "            new_file_path = os.path.join(directory, new_filename)\n",
    "\n",
    "            # Rename the file if a file with the new name does not already exist\n",
    "            if not os.path.exists(new_file_path):\n",
    "                os.rename(file_path, new_file_path)\n",
    "                print(f'Renamed: {file_path} -> {new_file_path}')\n",
    "            else:\n",
    "                print(f'File {new_file_path} already exists. Skipping rename for {file_path}')\n",
    "        else:\n",
    "            # Delete files that do not have a number between 2 and 26\n",
    "            os.remove(file_path)\n",
    "            print(f'Deleted: {file_path}')\n",
    "\n",
    "print(\"File renaming and deletion process completed.\")\n"
   ]
  }
 ],
 "metadata": {
  "kernelspec": {
   "display_name": "Python 3",
   "language": "python",
   "name": "python3"
  },
  "language_info": {
   "codemirror_mode": {
    "name": "ipython",
    "version": 3
   },
   "file_extension": ".py",
   "mimetype": "text/x-python",
   "name": "python",
   "nbconvert_exporter": "python",
   "pygments_lexer": "ipython3",
   "version": "3.12.5"
  }
 },
 "nbformat": 4,
 "nbformat_minor": 2
}
