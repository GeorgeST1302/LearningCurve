{
 "cells": [
  {
   "cell_type": "code",
   "execution_count": 2,
   "metadata": {},
   "outputs": [],
   "source": [
    "import PyPDF2\n",
    "import pyttsx3\n",
    "\n",
    "def read_book(file_path):\n",
    "    try:\n",
    "        # Read the PDF file\n",
    "        with open(file_path, 'rb') as file:\n",
    "            reader = PyPDF2.PdfReader(file)\n",
    "            content = \"\"\n",
    "            for page in reader.pages:\n",
    "                content += page.extract_text()\n",
    "\n",
    "        # Initialize the text-to-speech engine\n",
    "        engine = pyttsx3.init()\n",
    "        engine.setProperty('rate', 150)  # Speed of speech\n",
    "        engine.setProperty('volume', 0.9)  # Volume level\n",
    "\n",
    "        # Read the content aloud\n",
    "        engine.say(content)\n",
    "        engine.runAndWait()\n",
    "\n",
    "        return content\n",
    "    except FileNotFoundError:\n",
    "        return \"The file was not found.\"\n",
    "    except Exception as e:\n",
    "        return f\"An error occurred: {e}\"\n",
    "\n",
    "# Example usage:\n",
    "file_path = \"C:\\\\Users\\\\Georg\\\\OneDrive - Amrita vishwa vidyapeetham\\\\George 's Folder\\\\LearningCurve\\\\Projects\\\\Dharma\\\\Books and Papers\\\\Chapter 2.pdf\"\n",
    "book_content = read_book(file_path)\n",
    "print(book_content[:10])  # Print the first 1000 characters (optional)\n",
    "\n"
   ]
  },
  {
   "cell_type": "code",
   "execution_count": null,
   "metadata": {},
   "outputs": [],
   "source": []
  }
 ],
 "metadata": {
  "kernelspec": {
   "display_name": "Python 3",
   "language": "python",
   "name": "python3"
  },
  "language_info": {
   "codemirror_mode": {
    "name": "ipython",
    "version": 3
   },
   "file_extension": ".py",
   "mimetype": "text/x-python",
   "name": "python",
   "nbconvert_exporter": "python",
   "pygments_lexer": "ipython3",
   "version": "3.12.5"
  }
 },
 "nbformat": 4,
 "nbformat_minor": 2
}
