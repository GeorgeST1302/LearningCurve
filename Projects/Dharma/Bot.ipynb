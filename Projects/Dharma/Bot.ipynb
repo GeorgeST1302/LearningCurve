{
 "cells": [
  {
   "cell_type": "code",
   "execution_count": 48,
   "metadata": {},
   "outputs": [
    {
     "name": "stdout",
     "output_type": "stream",
     "text": [
      "File Books and Papers\\Chapter 10.pdf already exists. Skipping rename for Books and Papers\\Chapter 10.pdf\n",
      "File Books and Papers\\Chapter 11.pdf already exists. Skipping rename for Books and Papers\\Chapter 11.pdf\n",
      "File Books and Papers\\Chapter 12.pdf already exists. Skipping rename for Books and Papers\\Chapter 12.pdf\n",
      "File Books and Papers\\Chapter 13.pdf already exists. Skipping rename for Books and Papers\\Chapter 13.pdf\n",
      "File Books and Papers\\Chapter 14.pdf already exists. Skipping rename for Books and Papers\\Chapter 14.pdf\n",
      "File Books and Papers\\Chapter 15.pdf already exists. Skipping rename for Books and Papers\\Chapter 15.pdf\n",
      "File Books and Papers\\Chapter 16.pdf already exists. Skipping rename for Books and Papers\\Chapter 16.pdf\n",
      "File Books and Papers\\Chapter 17.pdf already exists. Skipping rename for Books and Papers\\Chapter 17.pdf\n",
      "File Books and Papers\\Chapter 18.pdf already exists. Skipping rename for Books and Papers\\Chapter 18.pdf\n",
      "File Books and Papers\\Chapter 19.pdf already exists. Skipping rename for Books and Papers\\Chapter 19.pdf\n",
      "File Books and Papers\\Chapter 2.pdf already exists. Skipping rename for Books and Papers\\Chapter 2.pdf\n",
      "File Books and Papers\\Chapter 20.pdf already exists. Skipping rename for Books and Papers\\Chapter 20.pdf\n",
      "File Books and Papers\\Chapter 22.pdf already exists. Skipping rename for Books and Papers\\Chapter 22.pdf\n",
      "File Books and Papers\\Chapter 24.pdf already exists. Skipping rename for Books and Papers\\Chapter 24.pdf\n",
      "File Books and Papers\\Chapter 25.pdf already exists. Skipping rename for Books and Papers\\Chapter 25.pdf\n",
      "File Books and Papers\\Chapter 26.pdf already exists. Skipping rename for Books and Papers\\Chapter 26.pdf\n",
      "File Books and Papers\\Chapter 3.pdf already exists. Skipping rename for Books and Papers\\Chapter 3.pdf\n",
      "File Books and Papers\\Chapter 4.pdf already exists. Skipping rename for Books and Papers\\Chapter 4.pdf\n",
      "File Books and Papers\\Chapter 5.pdf already exists. Skipping rename for Books and Papers\\Chapter 5.pdf\n",
      "File Books and Papers\\Chapter 6.pdf already exists. Skipping rename for Books and Papers\\Chapter 6.pdf\n",
      "File Books and Papers\\Chapter 7.pdf already exists. Skipping rename for Books and Papers\\Chapter 7.pdf\n",
      "File renaming and deletion process completed.\n"
     ]
    }
   ],
   "source": [
    "import os\n",
    "import re\n",
    "\n",
    "# Define the directory containing the files\n",
    "directory ='Books and Papers'\n",
    "\n",
    "\n",
    "# Check if the directory exists\n",
    "if not os.path.isdir(directory):\n",
    "    raise FileNotFoundError(f\"The directory {directory} does not exist.\")\n",
    "\n",
    "# Function to extract the number from the filename\n",
    "def extract_number(filename):\n",
    "    match = re.search(r'(\\d+)', filename)\n",
    "    if match:\n",
    "        return int(match.group(1))\n",
    "    return None\n",
    "\n",
    "# Process each file in the directory\n",
    "for filename in os.listdir(directory):\n",
    "    file_path = os.path.join(directory, filename)\n",
    "    \n",
    "    # Skip directories and process only files\n",
    "    if os.path.isfile(file_path):\n",
    "        number = extract_number(filename)\n",
    "        if number is not None and 2 <= number <= 26:\n",
    "            # Construct the new filename\n",
    "            new_filename = f'Chapter {number}.pdf'\n",
    "            new_file_path = os.path.join(directory, new_filename)\n",
    "\n",
    "            # Rename the file if a file with the new name does not already exist\n",
    "            if not os.path.exists(new_file_path):\n",
    "                os.rename(file_path, new_file_path)\n",
    "                print(f'Renamed: {file_path} -> {new_file_path}')\n",
    "            else:\n",
    "                print(f'File {new_file_path} already exists. Skipping rename for {file_path}')\n",
    "        else:\n",
    "            # Delete files that do not have a number between 2 and 26\n",
    "            os.remove(file_path)\n",
    "            print(f'Deleted: {file_path}')\n",
    "\n",
    "print(\"File renaming and deletion process completed.\")\n"
   ]
  },
  {
   "cell_type": "code",
   "execution_count": null,
   "metadata": {},
   "outputs": [
    {
     "name": "stderr",
     "output_type": "stream",
     "text": [
      "incorrect startxref pointer(1)\n"
     ]
    },
    {
     "name": "stdout",
     "output_type": "stream",
     "text": [
      "File not found: Dharma/Dharma/Books and Papers/Chapter 8.pdf\n",
      "File not found: Dharma/Dharma/Books and Papers/Chapter 9.pdf\n"
     ]
    },
    {
     "name": "stderr",
     "output_type": "stream",
     "text": [
      "incorrect startxref pointer(1)\n"
     ]
    }
   ],
   "source": [
    "import PyPDF2\n",
    "\n",
    "def extract_text_from_pdf(pdf_path):\n",
    "    with open(pdf_path, 'rb') as file:\n",
    "        reader = PyPDF2.PdfReader(file)\n",
    "        text = ''\n",
    "        for page in reader.pages:\n",
    "            text += page.extract_text()\n",
    "    return text\n",
    "\n",
    "def extract_text_from_chapters(base_path, start_chapter, end_chapter):\n",
    "    all_text = ''\n",
    "    for chapter in range(start_chapter, end_chapter + 1):\n",
    "        # Format chapter number to match file names (e.g., \"Chapter 2.pdf\", \"Chapter 3.pdf\")\n",
    "        chapter_file = f'{base_path}Chapter {chapter}.pdf'\n",
    "        try:\n",
    "            text = extract_text_from_pdf(chapter_file)\n",
    "            all_text += f'--- Chapter {chapter} ---\\n'  # Optional: Add a header for each chapter\n",
    "            all_text += text + '\\n\\n'\n",
    "        except FileNotFoundError:\n",
    "            print(f'File not found: {chapter_file}')\n",
    "        except Exception as e:\n",
    "            print(f'An error occurred with file {chapter_file}: {e}')\n",
    "    \n",
    "    return all_text\n",
    "\n",
    "# Set the base path where the PDFs are located\n",
    "base_path = 'Dharma/Dharma/Books and Papers/'\n",
    "start_chapter = 2\n",
    "end_chapter = 26\n",
    "\n",
    "# Extract text from the specified chapters\n",
    "all_text = extract_text_from_chapters(base_path, start_chapter, end_chapter)\n",
    "\n",
    "# Print or save the collected text\n",
    "print(all_text)\n",
    "\n",
    "# Optionally, you could save the combined text to a file\n",
    "with open('combined_text.txt', 'w') as output_file:\n",
    "    output_file.write(all_text)\n"
   ]
  }
 ],
 "metadata": {
  "kernelspec": {
   "display_name": "Python 3",
   "language": "python",
   "name": "python3"
  },
  "language_info": {
   "codemirror_mode": {
    "name": "ipython",
    "version": 3
   },
   "file_extension": ".py",
   "mimetype": "text/x-python",
   "name": "python",
   "nbconvert_exporter": "python",
   "pygments_lexer": "ipython3",
   "version": "3.12.5"
  }
 },
 "nbformat": 4,
 "nbformat_minor": 2
}
