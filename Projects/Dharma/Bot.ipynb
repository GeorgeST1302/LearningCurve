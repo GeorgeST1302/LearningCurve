{
 "cells": [
  {
   "cell_type": "code",
   "execution_count": null,
   "metadata": {},
   "outputs": [],
   "source": [
    "import os\n",
    "import re\n",
    "\n",
    "# Define the directory containing the files\n",
    "directory ='Books and Papers'\n",
    "\n",
    "\n",
    "# Check if the directory exists\n",
    "if not os.path.isdir(directory):\n",
    "    raise FileNotFoundError(f\"The directory {directory} does not exist.\")\n",
    "\n",
    "# Function to extract the number from the filename\n",
    "def extract_number(filename):\n",
    "    match = re.search(r'(\\d+)', filename)\n",
    "    if match:\n",
    "        return int(match.group(1))\n",
    "    return None\n",
    "\n",
    "# Process each file in the directory\n",
    "for filename in os.listdir(directory):\n",
    "    file_path = os.path.join(directory, filename)\n",
    "    \n",
    "    # Skip directories and process only files\n",
    "    if os.path.isfile(file_path):\n",
    "        number = extract_number(filename)\n",
    "        if number is not None and 2 <= number <= 26:\n",
    "            # Construct the new filename\n",
    "            new_filename = f'Chapter {number}.pdf'\n",
    "            new_file_path = os.path.join(directory, new_filename)\n",
    "\n",
    "            # Rename the file if a file with the new name does not already exist\n",
    "            if not os.path.exists(new_file_path):\n",
    "                os.rename(file_path, new_file_path)\n",
    "                print(f'Renamed: {file_path} -> {new_file_path}')\n",
    "            else:\n",
    "                print(f'File {new_file_path} already exists. Skipping rename for {file_path}')\n",
    "        else:\n",
    "            # Delete files that do not have a number between 2 and 26\n",
    "            os.remove(file_path)\n",
    "            print(f'Deleted: {file_path}')\n",
    "\n",
    "print(\"File renaming and deletion process completed.\")\n"
   ]
  },
  {
   "cell_type": "code",
   "execution_count": 50,
   "metadata": {},
   "outputs": [
    {
     "name": "stdout",
     "output_type": "stream",
     "text": [
      "Processing Chapter 10.pdf...\n",
      "Processing Chapter 11.pdf...\n",
      "Processing Chapter 12.pdf...\n",
      "Processing Chapter 13.pdf...\n",
      "Processing Chapter 14.pdf...\n",
      "Processing Chapter 15.pdf...\n",
      "Processing Chapter 16.pdf...\n",
      "Processing Chapter 17.pdf...\n",
      "Processing Chapter 18.pdf...\n",
      "Processing Chapter 19.pdf...\n",
      "Processing Chapter 2.pdf...\n",
      "Processing Chapter 20.pdf...\n",
      "Processing Chapter 22.pdf...\n",
      "Processing Chapter 24.pdf...\n",
      "Processing Chapter 25.pdf...\n",
      "Processing Chapter 26.pdf...\n",
      "Processing Chapter 3.pdf...\n",
      "Processing Chapter 4.pdf...\n",
      "Processing Chapter 5.pdf...\n",
      "Processing Chapter 6.pdf...\n",
      "Processing Chapter 7.pdf...\n",
      "Text extraction complete.\n"
     ]
    }
   ],
   "source": [
    "import pdfplumber\n",
    "import os\n",
    "\n",
    "# Define the directory containing the PDF files\n",
    "pdf_directory = \"Books and Papers\"\n",
    "text_directory = os.path.join(pdf_directory, \"extracted_text\")\n",
    "\n",
    "# Create a directory for extracted text files if it does not exist\n",
    "os.makedirs(text_directory, exist_ok=True)\n",
    "\n",
    "# Function to extract text from a single PDF file\n",
    "def extract_text_from_pdf(pdf_path):\n",
    "    text = \"\"\n",
    "    with pdfplumber.open(pdf_path) as pdf:\n",
    "        for page in pdf.pages:\n",
    "            text += page.extract_text() + \"\\n\"\n",
    "    return text\n",
    "\n",
    "# Iterate through all PDF files in the specified directory\n",
    "for filename in os.listdir(pdf_directory):\n",
    "    if filename.lower().endswith(\".pdf\"):\n",
    "        pdf_path = os.path.join(pdf_directory, filename)\n",
    "        print(f\"Processing {filename}...\")\n",
    "        \n",
    "        # Extract text from the PDF\n",
    "        text = extract_text_from_pdf(pdf_path)\n",
    "        \n",
    "        # Define the path for the output text file\n",
    "        text_filename = os.path.splitext(filename)[0] + \".txt\"\n",
    "        text_path = os.path.join(text_directory, text_filename)\n",
    "        \n",
    "        # Save the extracted text to a file\n",
    "        with open(text_path, \"w\", encoding=\"utf-8\") as text_file:\n",
    "            text_file.write(text)\n",
    "\n",
    "print(\"Text extraction complete.\")\n"
   ]
  },
  {
   "cell_type": "code",
   "execution_count": 51,
   "metadata": {},
   "outputs": [
    {
     "name": "stdout",
     "output_type": "stream",
     "text": [
      "Mean Reaction Time: 272.5 ms\n",
      "Standard Deviation: 27.271780286589287 ms\n"
     ]
    }
   ],
   "source": [
    "import numpy as np\n",
    "\n",
    "# Example reaction times (in milliseconds)\n",
    "reaction_times = [250, 270, 300, 220, 310, 280, 290, 260]\n",
    "\n",
    "# Compute basic statistics\n",
    "mean_reaction_time = np.mean(reaction_times)\n",
    "std_reaction_time = np.std(reaction_times)\n",
    "\n",
    "print(f\"Mean Reaction Time: {mean_reaction_time} ms\")\n",
    "print(f\"Standard Deviation: {std_reaction_time} ms\")\n"
   ]
  }
 ],
 "metadata": {
  "kernelspec": {
   "display_name": "Python 3",
   "language": "python",
   "name": "python3"
  },
  "language_info": {
   "codemirror_mode": {
    "name": "ipython",
    "version": 3
   },
   "file_extension": ".py",
   "mimetype": "text/x-python",
   "name": "python",
   "nbconvert_exporter": "python",
   "pygments_lexer": "ipython3",
   "version": "3.12.5"
  }
 },
 "nbformat": 4,
 "nbformat_minor": 2
}
